{
 "cells": [
  {
   "cell_type": "code",
   "execution_count": 35,
   "metadata": {},
   "outputs": [],
   "source": [
    "import numpy as np\n",
    "import pandas as pd\n",
    "from copy import deepcopy\n",
    "k=3\n",
    "import random as rd\n",
    "import matplotlib.pyplot as plt"
   ]
  },
  {
   "cell_type": "code",
   "execution_count": 36,
   "metadata": {
    "scrolled": true
   },
   "outputs": [
    {
     "name": "stdout",
     "output_type": "stream",
     "text": [
      "    X1   X2\n",
      "0  5.9  3.2\n",
      "1  4.6  2.9\n",
      "2  6.2  2.8\n",
      "3  4.7  9.2\n",
      "4  5.5  4.2\n",
      "5  5.0  3.0\n",
      "6  4.9  3.1\n",
      "7  6.7  3.1\n",
      "8  5.1  3.8\n",
      "9  6.0  3.0\n"
     ]
    }
   ],
   "source": [
    "X = pd.read_csv('kmeans.csv')\n",
    "print(X)"
   ]
  },
  {
   "cell_type": "code",
   "execution_count": 37,
   "metadata": {},
   "outputs": [
    {
     "data": {
      "image/png": "[encoded data removed]",
      "text/plain": [
       "<Figure size 640x480 with 1 Axes>"
      ]
     },
     "metadata": {},
     "output_type": "display_data"
    }
   ],
   "source": [
    "X = X[[\"X1\",\"X2\"]]\n",
    "#Visualise data points\n",
    "plt.scatter(X[\"X1\"],X[\"X2\"],c='red')\n",
    "plt.xlabel('AnnualIncome')\n",
    "plt.ylabel('Loan Amount (In Thousands)')\n",
    "plt.show()"
   ]
  },
  {
   "cell_type": "code",
   "execution_count": 38,
   "metadata": {},
   "outputs": [],
   "source": [
    "x1 = X['X1'].values\n",
    "x2 = X['X2'].values"
   ]
  },
  {
   "cell_type": "code",
   "execution_count": 39,
   "metadata": {},
   "outputs": [
    {
     "data": {
      "text/plain": [
       "array([5.9, 4.6, 6.2, 4.7, 5.5, 5. , 4.9, 6.7, 5.1, 6. ])"
      ]
     },
     "execution_count": 39,
     "metadata": {},
     "output_type": "execute_result"
    }
   ],
   "source": [
    "x1"
   ]
  },
  {
   "cell_type": "code",
   "execution_count": 40,
   "metadata": {},
   "outputs": [
    {
     "data": {
      "text/plain": [
       "array([3.2, 2.9, 2.8, 9.2, 4.2, 3. , 3.1, 3.1, 3.8, 3. ])"
      ]
     },
     "execution_count": 40,
     "metadata": {},
     "output_type": "execute_result"
    }
   ],
   "source": [
    "x2"
   ]
  },
  {
   "cell_type": "code",
   "execution_count": 41,
   "metadata": {},
   "outputs": [
    {
     "name": "stdout",
     "output_type": "stream",
     "text": [
      "[[5.9 3.2]\n",
      " [4.6 2.9]\n",
      " [6.2 2.8]\n",
      " [4.7 9.2]\n",
      " [5.5 4.2]\n",
      " [5.  3. ]\n",
      " [4.9 3.1]\n",
      " [6.7 3.1]\n",
      " [5.1 3.8]\n",
      " [6.  3. ]]\n"
     ]
    }
   ],
   "source": [
    "X = np.array(list(zip(x1, x2)))\n",
    "print(X)"
   ]
  },
  {
   "cell_type": "code",
   "execution_count": 42,
   "metadata": {},
   "outputs": [],
   "source": [
    "C_x = [6.2, 6.6 ,6.5]\n",
    "C_y = [3.2, 3.7, 3.0]"
   ]
  },
  {
   "cell_type": "code",
   "execution_count": 43,
   "metadata": {},
   "outputs": [
    {
     "name": "stdout",
     "output_type": "stream",
     "text": [
      "Initial Centroids\n",
      "(3, 2)\n"
     ]
    }
   ],
   "source": [
    "Centroid = np.array(list(zip(C_x, C_y)), dtype=np.float32)\n",
    "print(\"Initial Centroids\")\n",
    "print(Centroid.shape)"
   ]
  },
  {
   "cell_type": "code",
   "execution_count": 44,
   "metadata": {},
   "outputs": [
    {
     "data": {
      "text/plain": [
       "array([[6.2, 3.2],\n",
       "       [6.6, 3.7],\n",
       "       [6.5, 3. ]], dtype=float32)"
      ]
     },
     "execution_count": 44,
     "metadata": {},
     "output_type": "execute_result"
    }
   ],
   "source": [
    "Centroid"
   ]
  },
  {
   "cell_type": "code",
   "execution_count": 45,
   "metadata": {},
   "outputs": [
    {
     "data": {
      "text/plain": [
       "numpy.ndarray"
      ]
     },
     "execution_count": 45,
     "metadata": {},
     "output_type": "execute_result"
    }
   ],
   "source": [
    "type(Centroid)"
   ]
  },
  {
   "cell_type": "code",
   "execution_count": 46,
   "metadata": {},
   "outputs": [
    {
     "name": "stdout",
     "output_type": "stream",
     "text": [
      "[[0. 0.]\n",
      " [0. 0.]\n",
      " [0. 0.]]\n"
     ]
    }
   ],
   "source": [
    "Centroid_old = np.zeros(Centroid.shape)\n",
    "print(Centroid_old)"
   ]
  },
  {
   "cell_type": "code",
   "execution_count": 47,
   "metadata": {},
   "outputs": [
    {
     "name": "stdout",
     "output_type": "stream",
     "text": [
      "[0. 0. 0. 0. 0. 0. 0. 0. 0. 0.]\n"
     ]
    }
   ],
   "source": [
    "clusters = np.zeros(len(X))\n",
    "print(clusters)"
   ]
  },
  {
   "cell_type": "code",
   "execution_count": 48,
   "metadata": {},
   "outputs": [
    {
     "data": {
      "text/plain": [
       "[0, 1, 2, 0, 0, 1, 2, 1, 1, 0]"
      ]
     },
     "execution_count": 48,
     "metadata": {},
     "output_type": "execute_result"
    }
   ],
   "source": [
    "[0,1,2,0,0,1,2,1,1,0]"
   ]
  },
  {
   "cell_type": "code",
   "execution_count": 49,
   "metadata": {},
   "outputs": [],
   "source": [
    "def euclidean(a,b, ax=1):\n",
    "    return np.linalg.norm(a-b, axis=ax)"
   ]
  },
  {
   "cell_type": "code",
   "execution_count": 50,
   "metadata": {},
   "outputs": [
    {
     "name": "stdout",
     "output_type": "stream",
     "text": [
      "12.537144692236463\n"
     ]
    }
   ],
   "source": [
    "error = euclidean(Centroid, Centroid_old,None)\n",
    "print(error)"
   ]
  },
  {
   "cell_type": "code",
   "execution_count": 51,
   "metadata": {},
   "outputs": [],
   "source": [
    "iterr = 0"
   ]
  },
  {
   "cell_type": "code",
   "execution_count": 52,
   "metadata": {},
   "outputs": [
    {
     "name": "stdout",
     "output_type": "stream",
     "text": [
      "Old Centroid\n",
      "[[6.2 3.2]\n",
      " [6.6 3.7]\n",
      " [6.5 3. ]]\n",
      " New Centroids after  1  Iteration \n",
      " [[5.25      3.1666667]\n",
      " [5.1       6.7      ]\n",
      " [6.45      2.95     ]]\n",
      "Error  ...  3.4869196\n",
      "Data points belong to which cluster\n",
      "[0. 0. 2. 1. 1. 0. 0. 2. 0. 0.]\n",
      "********************************************************\n",
      "Old Centroid\n",
      "[[5.25      3.1666667]\n",
      " [5.1       6.7      ]\n",
      " [6.45      2.95     ]]\n",
      " New Centroids after  2  Iteration \n",
      " [[5.02  3.4  ]\n",
      " [4.7   9.2  ]\n",
      " [6.2   3.025]]\n",
      "Error  ...  2.566217\n",
      "Data points belong to which cluster\n",
      "[2. 0. 2. 1. 0. 0. 0. 2. 0. 2.]\n",
      "********************************************************\n",
      "Old Centroid\n",
      "[[5.02  3.4  ]\n",
      " [4.7   9.2  ]\n",
      " [6.2   3.025]]\n",
      " New Centroids after  3  Iteration \n",
      " [[5.02  3.4  ]\n",
      " [4.7   9.2  ]\n",
      " [6.2   3.025]]\n",
      "Error  ...  0.0\n",
      "Data points belong to which cluster\n",
      "[2. 0. 2. 1. 0. 0. 0. 2. 0. 2.]\n",
      "********************************************************\n"
     ]
    }
   ],
   "source": [
    "while error != 0:\n",
    "        # Assigning each value to its closest cluster\n",
    "        iterr = iterr + 1\n",
    "        for i in range(len(X)):\n",
    "            #print(\"Data Points\")\n",
    "            #print(X[i])\n",
    "            distances = euclidean(X[i], Centroid)\n",
    "            #print(\"Distances\")\n",
    "            #print(distances)\n",
    "            cluster = np.argmin(distances)\n",
    "            clusters[i] = cluster\n",
    "        Centroid_old = deepcopy(Centroid)\n",
    "        print(\"Old Centroid\")\n",
    "        print(Centroid_old)\n",
    "            \n",
    "        \n",
    "        # Finding the new centroids by taking the Mean\n",
    "        for p in range(k):\n",
    "            points = [X[j] for j in range(len(X)) if clusters[j] == p]\n",
    "            Centroid[p] = np.mean(points, axis=0)\n",
    "        print(\" New Centroids after \", iterr,\" Iteration \\n\", Centroid)\n",
    "        error = euclidean(Centroid, Centroid_old, None)\n",
    "        print(\"Error  ... \",error)\n",
    "        print(\"Data points belong to which cluster\")\n",
    "        print(clusters)\n",
    "        print(\"********************************************************\")"
   ]
  },
  {
   "cell_type": "code",
   "execution_count": 56,
   "metadata": {},
   "outputs": [
    {
     "data": {
      "image/png": "[encoded data removed]",
      "text/plain": [
       "<Figure size 640x480 with 1 Axes>"
      ]
     },
     "metadata": {},
     "output_type": "display_data"
    }
   ],
   "source": [
    "X = pd.read_csv('kmeans.csv')\n",
    "X = X[[\"X1\",\"X2\"]]\n",
    "#Visualise data points\n",
    "plt.scatter(X[\"X1\"],X[\"X2\"],c=clusters)\n",
    "plt.xlabel('AnnualIncome')\n",
    "plt.ylabel('Loan Amount (In Thousands)')\n",
    "plt.show()"
   ]
  },
  {
   "cell_type": "code",
   "execution_count": null,
   "metadata": {},
   "outputs": [],
   "source": []
  }
 ],
 "metadata": {
  "kernelspec": {
   "display_name": "Python 3 (ipykernel)",
   "language": "python",
   "name": "python3"
  },
  "language_info": {
   "codemirror_mode": {
    "name": "ipython",
    "version": 3
   },
   "file_extension": ".py",
   "mimetype": "text/x-python",
   "name": "python",
   "nbconvert_exporter": "python",
   "pygments_lexer": "ipython3",
   "version": "3.12.0"
  }
 },
 "nbformat": 4,
 "nbformat_minor": 4
}
